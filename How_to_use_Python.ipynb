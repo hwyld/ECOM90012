{
 "cells": [
  {
   "cell_type": "markdown",
   "id": "R-kv-Q4pfQh0",
   "metadata": {
    "id": "R-kv-Q4pfQh0"
   },
   "source": [
    "Import packages"
   ]
  },
  {
   "cell_type": "code",
   "execution_count": null,
   "id": "8vzRZIUiWlmK",
   "metadata": {
    "id": "8vzRZIUiWlmK"
   },
   "outputs": [],
   "source": [
    "# Import Pandas package and label it pd \n",
    "import pandas as pd"
   ]
  },
  {
   "cell_type": "markdown",
   "id": "Qg4MVquafTFG",
   "metadata": {
    "id": "Qg4MVquafTFG"
   },
   "source": [
    "Import data"
   ]
  },
  {
   "cell_type": "code",
   "execution_count": null,
   "id": "6vcy6MMWWsbT",
   "metadata": {
    "colab": {
     "base_uri": "https://localhost:8080/",
     "height": 73
    },
    "id": "6vcy6MMWWsbT",
    "outputId": "2d6fe584-49e0-41ec-a68b-536f012c1386"
   },
   "outputs": [],
   "source": [
    "# Import baseball data and call the dataset ‘baseball’\n",
    "#from google.colab import files  # uncomment if using colab\n",
    "#uploades = files.upload()  # uncomment if using colab\n",
    "baseball = pd.read_csv('baseball.csv') "
   ]
  },
  {
   "cell_type": "code",
   "execution_count": null,
   "id": "gn73tF11W5XT",
   "metadata": {
    "colab": {
     "base_uri": "https://localhost:8080/"
    },
    "id": "gn73tF11W5XT",
    "outputId": "3c436e50-f131-4ce8-fad2-d8e899f33343"
   },
   "outputs": [],
   "source": [
    "# View the first 5 rows of the data\n",
    "print(baseball.head())"
   ]
  },
  {
   "cell_type": "markdown",
   "id": "SlE_Q8WBfG73",
   "metadata": {
    "id": "SlE_Q8WBfG73"
   },
   "source": [
    "Summary statistics"
   ]
  },
  {
   "cell_type": "code",
   "execution_count": null,
   "id": "66b85f47",
   "metadata": {
    "colab": {
     "base_uri": "https://localhost:8080/"
    },
    "id": "66b85f47",
    "outputId": "b5c3eddb-5936-4bd6-ac90-8eeab02f148d"
   },
   "outputs": [],
   "source": [
    "# Display summary statistics for variable Height using baseball data\n",
    "print(baseball[\"Height\"].describe())"
   ]
  },
  {
   "cell_type": "code",
   "execution_count": null,
   "id": "FKnkW3QufBy7",
   "metadata": {
    "colab": {
     "base_uri": "https://localhost:8080/"
    },
    "id": "FKnkW3QufBy7",
    "outputId": "7bacd2f8-2507-4f27-8ad8-6212f978ca70"
   },
   "outputs": [],
   "source": [
    "# Find the median of Weight using baseball data\n",
    "print(baseball[\"Weight\"].median())"
   ]
  },
  {
   "cell_type": "code",
   "execution_count": null,
   "id": "gwumHEknfKxr",
   "metadata": {
    "colab": {
     "base_uri": "https://localhost:8080/"
    },
    "id": "gwumHEknfKxr",
    "outputId": "9794419c-144a-4bfc-daad-63937c574678"
   },
   "outputs": [],
   "source": [
    "# Find the mode of Age using baseball data\n",
    "print(baseball[\"Age\"].mode())"
   ]
  },
  {
   "cell_type": "code",
   "execution_count": null,
   "id": "vA6NHjynfMX0",
   "metadata": {
    "colab": {
     "base_uri": "https://localhost:8080/"
    },
    "id": "vA6NHjynfMX0",
    "outputId": "d9a226ff-f954-4513-cf9f-46002275ef6a"
   },
   "outputs": [],
   "source": [
    "# Display the correlation coefficient between Height and Weight using baseball data   \n",
    "baseball[\"Height\"].corr(baseball[\"Weight\"])"
   ]
  },
  {
   "cell_type": "markdown",
   "id": "i4jh_L8ofVYh",
   "metadata": {
    "id": "i4jh_L8ofVYh"
   },
   "source": [
    "Graphs"
   ]
  },
  {
   "cell_type": "code",
   "execution_count": null,
   "id": "EoX2gSodeac2",
   "metadata": {
    "colab": {
     "base_uri": "https://localhost:8080/",
     "height": 296
    },
    "id": "EoX2gSodeac2",
    "outputId": "7af9947d-576c-4fb3-f2fb-e090391e6f1d"
   },
   "outputs": [],
   "source": [
    "# produce a scatter plot of height and weight using the baseball data\n",
    "baseball.plot.scatter(x='Height', y='Weight')"
   ]
  },
  {
   "cell_type": "code",
   "execution_count": null,
   "id": "dH0SWc39fZV_",
   "metadata": {
    "id": "dH0SWc39fZV_"
   },
   "outputs": [],
   "source": [
    "# produce a line graph using a data set called dataframe \n",
    "dataframe.plot.line(x='[type variable name here]', y='[type variable name here]')"
   ]
  },
  {
   "cell_type": "code",
   "execution_count": null,
   "id": "N2EdvYe8fbDP",
   "metadata": {
    "id": "N2EdvYe8fbDP"
   },
   "outputs": [],
   "source": [
    "# produce a bar graph using a data set called dataframe \n",
    "dataframe.plot.bar(x='[type variable name here]', y='[type variable name here]')"
   ]
  },
  {
   "cell_type": "markdown",
   "id": "ByASj8mVfctB",
   "metadata": {
    "id": "ByASj8mVfctB"
   },
   "source": [
    "OLS Regression"
   ]
  },
  {
   "cell_type": "code",
   "execution_count": null,
   "id": "YKhkU4n4epTZ",
   "metadata": {
    "id": "YKhkU4n4epTZ"
   },
   "outputs": [],
   "source": [
    "# import the statsmodel package\n",
    "import statsmodels.formula.api as smf "
   ]
  },
  {
   "cell_type": "code",
   "execution_count": null,
   "id": "U59fXdzHfg2w",
   "metadata": {
    "id": "U59fXdzHfg2w"
   },
   "outputs": [],
   "source": [
    "# drop missing data if necessary i.e. \n",
    "baseball_na = baseball.dropna()  "
   ]
  },
  {
   "cell_type": "code",
   "execution_count": null,
   "id": "RV9vDAUYfimC",
   "metadata": {
    "id": "RV9vDAUYfimC"
   },
   "outputs": [],
   "source": [
    "# regress age on weight using baseball data\n",
    "ols_1 = smf.ols('Weight ~ Age', data=baseball_na).fit() "
   ]
  },
  {
   "cell_type": "code",
   "execution_count": null,
   "id": "wgFzuzpAfj7E",
   "metadata": {
    "colab": {
     "base_uri": "https://localhost:8080/"
    },
    "id": "wgFzuzpAfj7E",
    "outputId": "10ac9321-168c-4ff6-deb5-cdb4de45fb3b"
   },
   "outputs": [],
   "source": [
    "# show the regression table\n",
    "print(ols_1.summary().tables[1]) "
   ]
  },
  {
   "cell_type": "code",
   "execution_count": null,
   "id": "mhLl0t58flOw",
   "metadata": {
    "id": "mhLl0t58flOw"
   },
   "outputs": [],
   "source": [
    "# regress age and height on weight using baseball data\n",
    "ols_2 = smf.ols('Weight ~ Age + Height', data=baseball_na).fit()"
   ]
  },
  {
   "cell_type": "code",
   "execution_count": null,
   "id": "DvdXP9PufmdL",
   "metadata": {
    "colab": {
     "base_uri": "https://localhost:8080/"
    },
    "id": "DvdXP9PufmdL",
    "outputId": "f0412d87-b4d3-4d2d-af95-1de7172cbe44"
   },
   "outputs": [],
   "source": [
    "# show the regression table\n",
    "print(ols_2.summary().tables[1])"
   ]
  },
  {
   "cell_type": "markdown",
   "id": "wd8s5va-fnhC",
   "metadata": {
    "id": "wd8s5va-fnhC"
   },
   "source": [
    "How to create data frames"
   ]
  },
  {
   "cell_type": "code",
   "execution_count": null,
   "id": "smVqMmbGgFKn",
   "metadata": {
    "id": "smVqMmbGgFKn"
   },
   "outputs": [],
   "source": [
    "# import pandas as pd"
   ]
  },
  {
   "cell_type": "code",
   "execution_count": null,
   "id": "w9-DSqlje0Xr",
   "metadata": {
    "id": "w9-DSqlje0Xr"
   },
   "outputs": [],
   "source": [
    "# Input the data\n",
    "indium = pd.DataFrame({'Driver ID': ['1', '1', '2', '3', '3'],\n",
    "                       'Date': ['02/05/20', '02/05/20', '03/05/20', '03/05/20', '05/05/20'],\n",
    "                       'Time': ['11:50am', '1:30pm', '9:05am', '6:10am', '8:20pm'],\n",
    "                       'State': ['Vic', 'Vic', 'NSW', 'SA', 'SA'],\n",
    "                       'Accident': ['No', 'No', 'No', 'Yes', 'No']},\n",
    "                      index=[0, 1, 2, 3, 4])"
   ]
  },
  {
   "cell_type": "code",
   "execution_count": null,
   "id": "oh7376CTfsAL",
   "metadata": {
    "colab": {
     "base_uri": "https://localhost:8080/"
    },
    "id": "oh7376CTfsAL",
    "outputId": "bbc01c77-52d4-4ff1-eca6-0b07e5f2b798"
   },
   "outputs": [],
   "source": [
    "# View a subset of your data frame\n",
    "print(indium.head())"
   ]
  },
  {
   "cell_type": "code",
   "execution_count": null,
   "id": "B4CiEipHfsMA",
   "metadata": {
    "colab": {
     "base_uri": "https://localhost:8080/"
    },
    "id": "B4CiEipHfsMA",
    "outputId": "4a482d9a-45d7-496a-d7b9-2a04c9407780"
   },
   "outputs": [],
   "source": [
    "# View the data types of the variables in your data frame\n",
    "indium.dtypes"
   ]
  },
  {
   "cell_type": "code",
   "execution_count": null,
   "id": "RLjIWUT2fsUj",
   "metadata": {
    "colab": {
     "base_uri": "https://localhost:8080/"
    },
    "id": "RLjIWUT2fsUj",
    "outputId": "ab9caaa2-b750-4929-86a7-a287b55b6318"
   },
   "outputs": [],
   "source": [
    "# Convert yes/no variables into binary variables \n",
    "indium['Accident'] = indium['Accident'].replace({'No':0,'Yes':1})  \n",
    "print(indium.head())"
   ]
  },
  {
   "cell_type": "code",
   "execution_count": null,
   "id": "0QAO1Z0wfsbw",
   "metadata": {
    "colab": {
     "base_uri": "https://localhost:8080/"
    },
    "id": "0QAO1Z0wfsbw",
    "outputId": "ebd9d2f5-4602-4acb-b97b-d69fafbae356"
   },
   "outputs": [],
   "source": [
    "# Convert categorical variables into individual dummy variables\n",
    "indium_state = pd.get_dummies(indium.State)\n",
    "print(indium_state.head())"
   ]
  },
  {
   "cell_type": "code",
   "execution_count": null,
   "id": "ISsBhe0sfsiG",
   "metadata": {
    "colab": {
     "base_uri": "https://localhost:8080/"
    },
    "id": "ISsBhe0sfsiG",
    "outputId": "dcaf19ab-78c0-46a9-da49-84bde0bda8f1"
   },
   "outputs": [],
   "source": [
    "# Merge new State variables into original data frame\n",
    "indium = pd.concat([indium, indium_state], axis=1)\n",
    "print(indium.head())"
   ]
  },
  {
   "cell_type": "code",
   "execution_count": null,
   "id": "9gJ1CMtAfsng",
   "metadata": {
    "id": "9gJ1CMtAfsng"
   },
   "outputs": [],
   "source": [
    "# Change an object variable or float variable into an integer variable            \n",
    "indium['Driver ID'] = indium['Driver ID'].astype('int')  "
   ]
  },
  {
   "cell_type": "code",
   "execution_count": null,
   "id": "0iLjKuUtfstG",
   "metadata": {
    "id": "0iLjKuUtfstG"
   },
   "outputs": [],
   "source": [
    "# Change an object variable into a date variable          \n",
    "indium['Date'] = pd.to_datetime(indium['Date']).dt.date "
   ]
  },
  {
   "cell_type": "code",
   "execution_count": null,
   "id": "HACqyy-Bfsz5",
   "metadata": {
    "id": "HACqyy-Bfsz5"
   },
   "outputs": [],
   "source": [
    "# Change an object variable into a time variable      \n",
    "indium['Time'] = pd.to_datetime(indium['Time']).dt.time "
   ]
  },
  {
   "cell_type": "code",
   "execution_count": null,
   "id": "UDHUlk-of4ub",
   "metadata": {
    "id": "UDHUlk-of4ub"
   },
   "outputs": [],
   "source": [
    "# Change the name of a variable\n",
    "indium.rename(columns={'State': 'State_old'}, inplace=True)"
   ]
  }
 ],
 "metadata": {
  "colab": {
   "provenance": []
  },
  "kernelspec": {
   "display_name": "Python 3 (ipykernel)",
   "language": "python",
   "name": "python3"
  },
  "language_info": {
   "codemirror_mode": {
    "name": "ipython",
    "version": 3
   },
   "file_extension": ".py",
   "mimetype": "text/x-python",
   "name": "python",
   "nbconvert_exporter": "python",
   "pygments_lexer": "ipython3",
   "version": "3.9.12"
  }
 },
 "nbformat": 4,
 "nbformat_minor": 5
}
